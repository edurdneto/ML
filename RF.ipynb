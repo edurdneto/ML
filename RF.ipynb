{
 "cells": [
  {
   "cell_type": "code",
   "execution_count": 1,
   "id": "1da4ce80",
   "metadata": {},
   "outputs": [],
   "source": [
    "import pandas as pd"
   ]
  },
  {
   "cell_type": "code",
   "execution_count": 2,
   "id": "bd832fd5",
   "metadata": {},
   "outputs": [],
   "source": [
    "# dataset link https://www.kaggle.com/dansbecker/melbourne-housing-snapshot"
   ]
  },
  {
   "cell_type": "markdown",
   "id": "cf84af5b",
   "metadata": {},
   "source": [
    "## DataSet "
   ]
  },
  {
   "cell_type": "code",
   "execution_count": 3,
   "id": "f2951c87",
   "metadata": {},
   "outputs": [],
   "source": [
    "dataset_filepath = 'dataset/melb_data.csv'\n",
    "data = pd.read_csv(dataset_filepath) "
   ]
  },
  {
   "cell_type": "code",
   "execution_count": 4,
   "id": "f992992d",
   "metadata": {},
   "outputs": [
    {
     "data": {
      "text/plain": [
       "Index(['Suburb', 'Address', 'Rooms', 'Type', 'Price', 'Method', 'SellerG',\n",
       "       'Date', 'Distance', 'Postcode', 'Bedroom2', 'Bathroom', 'Car',\n",
       "       'Landsize', 'BuildingArea', 'YearBuilt', 'CouncilArea', 'Lattitude',\n",
       "       'Longtitude', 'Regionname', 'Propertycount'],\n",
       "      dtype='object')"
      ]
     },
     "execution_count": 4,
     "metadata": {},
     "output_type": "execute_result"
    }
   ],
   "source": [
    "data.columns"
   ]
  },
  {
   "cell_type": "markdown",
   "id": "f72f10c7",
   "metadata": {},
   "source": [
    "## Removing missing values "
   ]
  },
  {
   "cell_type": "code",
   "execution_count": 5,
   "id": "5fba0fc2",
   "metadata": {},
   "outputs": [],
   "source": [
    "# remove missing values\n",
    "data = data.dropna(axis=0)"
   ]
  },
  {
   "cell_type": "code",
   "execution_count": 6,
   "id": "b08639c9",
   "metadata": {},
   "outputs": [],
   "source": [
    "# Lets predict the house prices\n",
    "# getting only the collumn\n",
    "y = data.Price"
   ]
  },
  {
   "cell_type": "code",
   "execution_count": 7,
   "id": "46d47f37",
   "metadata": {},
   "outputs": [],
   "source": [
    "# Selecting the features to infer the prices\n",
    "data_features = ['Rooms', 'Bathroom', 'Landsize', 'Lattitude', 'Longtitude']\n",
    "\n",
    "X = data[data_features]"
   ]
  },
  {
   "cell_type": "code",
   "execution_count": 8,
   "id": "7de34030",
   "metadata": {},
   "outputs": [],
   "source": [
    "#Splint the dataset in training, validating and test\n",
    "from sklearn.model_selection import train_test_split\n",
    "\n",
    "train_X, val_X, train_y, val_y = train_test_split(X, y, random_state = 0)"
   ]
  },
  {
   "cell_type": "code",
   "execution_count": 9,
   "id": "39747304",
   "metadata": {},
   "outputs": [],
   "source": [
    "from sklearn.ensemble import RandomForestRegressor\n",
    "from sklearn.metrics import mean_absolute_error"
   ]
  },
  {
   "cell_type": "code",
   "execution_count": 10,
   "id": "489de3be",
   "metadata": {},
   "outputs": [
    {
     "name": "stdout",
     "output_type": "stream",
     "text": [
      "207190.6873773146\n"
     ]
    }
   ],
   "source": [
    "forest_model = RandomForestRegressor(random_state=1)\n",
    "forest_model.fit(train_X, train_y)\n",
    "melb_preds = forest_model.predict(val_X)\n",
    "print(mean_absolute_error(val_y, melb_preds))"
   ]
  },
  {
   "cell_type": "code",
   "execution_count": 16,
   "id": "71364e6c",
   "metadata": {},
   "outputs": [
    {
     "data": {
      "text/plain": [
       "4850      815000.0\n",
       "2307      655000.0\n",
       "10090     957500.0\n",
       "3645     1330000.0\n",
       "4930      722000.0\n",
       "Name: Price, dtype: float64"
      ]
     },
     "execution_count": 16,
     "metadata": {},
     "output_type": "execute_result"
    }
   ],
   "source": [
    "val_y.head()"
   ]
  },
  {
   "cell_type": "code",
   "execution_count": 18,
   "id": "0ba827d7",
   "metadata": {},
   "outputs": [
    {
     "data": {
      "text/plain": [
       "1414567.0"
      ]
     },
     "execution_count": 18,
     "metadata": {},
     "output_type": "execute_result"
    }
   ],
   "source": [
    "melb_preds[3]"
   ]
  },
  {
   "cell_type": "code",
   "execution_count": null,
   "id": "ebcfe2c3",
   "metadata": {},
   "outputs": [],
   "source": []
  }
 ],
 "metadata": {
  "kernelspec": {
   "display_name": "Python 3",
   "language": "python",
   "name": "python3"
  },
  "language_info": {
   "codemirror_mode": {
    "name": "ipython",
    "version": 3
   },
   "file_extension": ".py",
   "mimetype": "text/x-python",
   "name": "python",
   "nbconvert_exporter": "python",
   "pygments_lexer": "ipython3",
   "version": "3.8.8"
  }
 },
 "nbformat": 4,
 "nbformat_minor": 5
}
